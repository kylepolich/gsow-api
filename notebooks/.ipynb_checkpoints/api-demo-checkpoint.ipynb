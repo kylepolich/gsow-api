{
 "cells": [
  {
   "cell_type": "code",
   "execution_count": 2,
   "id": "0291d51e",
   "metadata": {},
   "outputs": [],
   "source": [
    "import requests"
   ]
  },
  {
   "cell_type": "code",
   "execution_count": 3,
   "id": "67f99c80",
   "metadata": {},
   "outputs": [],
   "source": [
    "base_url = 'http://127.0.0.1:8000'"
   ]
  },
  {
   "cell_type": "code",
   "execution_count": 62,
   "id": "f1dd94e4",
   "metadata": {},
   "outputs": [],
   "source": [
    "pageid = 'James_Randi'\n",
    "lang = 'en'\n",
    "start = '2023-01-01'"
   ]
  },
  {
   "cell_type": "markdown",
   "id": "34d9bb88",
   "metadata": {},
   "source": [
    "# Health Endpoint"
   ]
  },
  {
   "cell_type": "code",
   "execution_count": 6,
   "id": "ffb37a25",
   "metadata": {},
   "outputs": [
    {
     "data": {
      "text/plain": [
       "{'working': True}"
      ]
     },
     "execution_count": 6,
     "metadata": {},
     "output_type": "execute_result"
    }
   ],
   "source": [
    "requests.get(f'{base_url}/health').json()"
   ]
  },
  {
   "cell_type": "code",
   "execution_count": null,
   "id": "da6aae2e",
   "metadata": {},
   "outputs": [],
   "source": []
  },
  {
   "cell_type": "markdown",
   "id": "54b90de9",
   "metadata": {},
   "source": [
    "# Add / Update a page"
   ]
  },
  {
   "cell_type": "code",
   "execution_count": 121,
   "id": "4174d642",
   "metadata": {},
   "outputs": [],
   "source": [
    "req = {\n",
    "    'start': start\n",
    "}"
   ]
  },
  {
   "cell_type": "code",
   "execution_count": 122,
   "id": "b550bf60",
   "metadata": {},
   "outputs": [
    {
     "data": {
      "text/plain": [
       "{'success': True, 'object_id': 'wiki-pageviews.en.James_Randi'}"
      ]
     },
     "execution_count": 122,
     "metadata": {},
     "output_type": "execute_result"
    }
   ],
   "source": [
    "requests.post(f'{base_url}/pages/{lang}/{pageid}', json=req).json()"
   ]
  },
  {
   "cell_type": "code",
   "execution_count": null,
   "id": "8d5d046b",
   "metadata": {},
   "outputs": [],
   "source": []
  },
  {
   "cell_type": "markdown",
   "id": "6550f047",
   "metadata": {},
   "source": [
    "# Get a page"
   ]
  },
  {
   "cell_type": "code",
   "execution_count": 123,
   "id": "045e5f7f",
   "metadata": {},
   "outputs": [
    {
     "data": {
      "text/plain": [
       "{'pageid': 'James_Randi',\n",
       " 'pageviews': [{'dt': '2023-05-12T00:00:00', 'views': None},\n",
       "  {'dt': '2023-05-11T00:00:00', 'views': 851.0}]}"
      ]
     },
     "execution_count": 123,
     "metadata": {},
     "output_type": "execute_result"
    }
   ],
   "source": [
    "requests.get(f'{base_url}/pages/{lang}/{pageid}?limit=2').json()"
   ]
  },
  {
   "cell_type": "code",
   "execution_count": null,
   "id": "a11b1814",
   "metadata": {},
   "outputs": [],
   "source": []
  },
  {
   "cell_type": "markdown",
   "id": "03e00bc7",
   "metadata": {},
   "source": [
    "# Delete"
   ]
  },
  {
   "cell_type": "code",
   "execution_count": 124,
   "id": "33dd817b",
   "metadata": {},
   "outputs": [
    {
     "data": {
      "text/plain": [
       "{'success': True, 'object_id': 'wiki-pageviews.en.James_Randi'}"
      ]
     },
     "execution_count": 124,
     "metadata": {},
     "output_type": "execute_result"
    }
   ],
   "source": [
    "requests.delete(f'{base_url}/pages/{lang}/{pageid}').json()"
   ]
  },
  {
   "cell_type": "code",
   "execution_count": 125,
   "id": "12e790b8",
   "metadata": {},
   "outputs": [
    {
     "data": {
      "text/plain": [
       "{'success': False, 'error': 'Not found.'}"
      ]
     },
     "execution_count": 125,
     "metadata": {},
     "output_type": "execute_result"
    }
   ],
   "source": [
    "requests.get(f'{base_url}/pages/{lang}/{pageid}?limit=2').json()"
   ]
  }
 ],
 "metadata": {
  "kernelspec": {
   "display_name": "Python 3 (ipykernel)",
   "language": "python",
   "name": "python3"
  },
  "language_info": {
   "codemirror_mode": {
    "name": "ipython",
    "version": 3
   },
   "file_extension": ".py",
   "mimetype": "text/x-python",
   "name": "python",
   "nbconvert_exporter": "python",
   "pygments_lexer": "ipython3",
   "version": "3.10.8"
  }
 },
 "nbformat": 4,
 "nbformat_minor": 5
}
